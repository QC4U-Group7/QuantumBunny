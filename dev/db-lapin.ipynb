{
 "cells": [
  {
   "cell_type": "code",
   "execution_count": 47,
   "outputs": [],
   "source": [
    "import numpy as np\n",
    "import sqlite3\n",
    "from typing import List, Optional, Tuple"
   ],
   "metadata": {
    "collapsed": false,
    "pycharm": {
     "name": "#%%\n"
    }
   }
  },
  {
   "cell_type": "markdown",
   "source": [
    "# Dev Data Manager for Lapin object"
   ],
   "metadata": {
    "collapsed": false,
    "pycharm": {
     "name": "#%% md\n"
    }
   }
  },
  {
   "cell_type": "markdown",
   "source": [
    "Example data set"
   ],
   "metadata": {
    "collapsed": false,
    "pycharm": {
     "name": "#%% md\n"
    }
   }
  },
  {
   "cell_type": "code",
   "execution_count": 16,
   "outputs": [],
   "source": [
    "data = [\n",
    "    (\"usagi\", [\"CX12\", \"CZ23\", \"X1\"], [1.23, 2.34, 3.45], 1),\n",
    "    (\"usausa\", [\"CX23\", \"CZ31\", \"X2\"], [4.23, 1.34, 2.45], 2),\n",
    "    (\"ucchi\", [\"Z1\", \"CZ12\", \"X3\"], [0.23, 2.34, -2.45], 1)\n",
    "]"
   ],
   "metadata": {
    "collapsed": false,
    "pycharm": {
     "name": "#%%\n"
    }
   }
  },
  {
   "cell_type": "markdown",
   "source": [
    "## Model class"
   ],
   "metadata": {
    "collapsed": false,
    "pycharm": {
     "name": "#%% md\n"
    }
   }
  },
  {
   "cell_type": "code",
   "execution_count": 17,
   "outputs": [],
   "source": [
    "class Lapin:\n",
    "\n",
    "    def __init__(\n",
    "            self,\n",
    "            id_: int,\n",
    "            name: str,\n",
    "            genome: List[str],\n",
    "            points: List[float],\n",
    "            user_id: int,\n",
    "            date: str\n",
    "    ):\n",
    "        self.id = id_\n",
    "        self.name = name\n",
    "        self.genome = genome\n",
    "        self.points = points\n",
    "        self.user = user_id\n",
    "        self.date = date\n",
    "\n",
    "    def __str__(self):\n",
    "        ret = f\"Lapin[id={self.id} name={self.name} user={self.user}]\"\n",
    "        return ret"
   ],
   "metadata": {
    "collapsed": false,
    "pycharm": {
     "name": "#%%\n"
    }
   }
  },
  {
   "cell_type": "markdown",
   "source": [
    "## Make DB"
   ],
   "metadata": {
    "collapsed": false,
    "pycharm": {
     "name": "#%% md\n"
    }
   }
  },
  {
   "cell_type": "code",
   "execution_count": 18,
   "outputs": [],
   "source": [
    "# config\n",
    "cf = dict(\n",
    "    name=\"lapin.db\"\n",
    ")\n"
   ],
   "metadata": {
    "collapsed": false,
    "pycharm": {
     "name": "#%%\n"
    }
   }
  },
  {
   "cell_type": "code",
   "execution_count": 19,
   "outputs": [],
   "source": [
    "def make_table_lapin(dbname: str):\n",
    "    query_fields = [\n",
    "        \"id integer primary key\",\n",
    "        \"name string\",\n",
    "        \"genome string\",\n",
    "        \"points string\",\n",
    "        \"user int\",\n",
    "        \"date timestamp default (datetime(current_timestamp,'localtime'))\"\n",
    "    ]\n",
    "    query = f\"create table if not exists lapin({', '.join(query_fields)})\"\n",
    "    with sqlite3.connect(dbname) as conn:\n",
    "        cur = conn.cursor()\n",
    "        cur.execute(query)\n",
    "        conn.commit()\n"
   ],
   "metadata": {
    "collapsed": false,
    "pycharm": {
     "name": "#%%\n"
    }
   }
  },
  {
   "cell_type": "code",
   "execution_count": 20,
   "outputs": [],
   "source": [
    "make_table_lapin(cf[\"name\"])\n"
   ],
   "metadata": {
    "collapsed": false,
    "pycharm": {
     "name": "#%%\n"
    }
   }
  },
  {
   "cell_type": "code",
   "execution_count": 48,
   "outputs": [],
   "source": [
    "class LapinDataManager:\n",
    "\n",
    "    def __init__(self, dbname: str):\n",
    "        self.dbname = dbname\n",
    "        make_table_lapin(dbname)\n",
    "\n",
    "    def load_lapin(\n",
    "            self,\n",
    "            id_: int = None,\n",
    "            name: str = None,\n",
    "            user_id: int = None,\n",
    "    ) -> List[Lapin]:\n",
    "        conditions = []\n",
    "        if id_ is not None:\n",
    "            conditions.append(f\"id = '{id_}'\")\n",
    "        if name is not None:\n",
    "            conditions.append(f\"name = '{name}'\")\n",
    "        if user_id is not None:\n",
    "            conditions.append(f\"user = '{user_id}'\")\n",
    "\n",
    "        query = \"select * from lapin\"\n",
    "        if len(conditions) > 0:\n",
    "            str_conditions = \" and \".join(conditions)\n",
    "            query = query + \" where \" + str_conditions\n",
    "\n",
    "        with sqlite3.connect(self.dbname) as conn:\n",
    "            cur = conn.cursor()\n",
    "            cur.execute(query)\n",
    "            lapins = [Lapin(*self.decode_data(row)) for row in cur]\n",
    "\n",
    "        return lapins\n",
    "\n",
    "    @staticmethod\n",
    "    def decode_data(row: tuple) -> Tuple:\n",
    "        id_, name, str_genome, str_points, user_id, date = row\n",
    "        genome = str_genome.split(\":\")\n",
    "        points = str_points.split(\":\")\n",
    "        points = [float(p) / 100 for p in points]\n",
    "        return id_, name, genome, points, user_id, date\n",
    "\n",
    "    def store_lapin(\n",
    "            self,\n",
    "            name: str,\n",
    "            genome: List[str],\n",
    "            points: List[float],\n",
    "            user_id: int,\n",
    "    ) -> List[Lapin]:\n",
    "        points = np.asarray(points) * 100\n",
    "        str_points = \":\".join([str(p) for p in points.astype(int)])\n",
    "        str_genome = \":\".join(genome)\n",
    "\n",
    "        query_base = \"insert into lapin (name, genome, points, user) values \"\n",
    "        query_data = \"('\" + \"', '\".join([name, str_genome, str_points, str(user_id)]) + \"')\"\n",
    "        query = query_base + query_data\n",
    "\n",
    "        with sqlite3.connect(self.dbname) as conn:\n",
    "            cur = conn.cursor()\n",
    "            cur.execute(query)\n",
    "            conn.commit()\n",
    "\n",
    "    def create(\n",
    "            self,\n",
    "            name: str,\n",
    "            genome: List[str],\n",
    "            points: List[float],\n",
    "            user_id: int,\n",
    "    ):\n",
    "        self.store_lapin(name, genome, points, user_id)\n",
    "        lapin = self.load_lapin(name=name, user_id=user_id)[0]\n",
    "        return lapin"
   ],
   "metadata": {
    "collapsed": false,
    "pycharm": {
     "name": "#%%\n"
    }
   }
  },
  {
   "cell_type": "code",
   "execution_count": null,
   "outputs": [],
   "source": [],
   "metadata": {
    "collapsed": false,
    "pycharm": {
     "name": "#%%\n"
    }
   }
  }
 ],
 "metadata": {
  "kernelspec": {
   "display_name": "Python 3",
   "language": "python",
   "name": "python3"
  },
  "language_info": {
   "codemirror_mode": {
    "name": "ipython",
    "version": 2
   },
   "file_extension": ".py",
   "mimetype": "text/x-python",
   "name": "python",
   "nbconvert_exporter": "python",
   "pygments_lexer": "ipython2",
   "version": "2.7.6"
  }
 },
 "nbformat": 4,
 "nbformat_minor": 0
}